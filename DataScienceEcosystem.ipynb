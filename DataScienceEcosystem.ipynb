{
 "cells": [
  {
   "cell_type": "markdown",
   "id": "2df47a2a-8281-47c9-8ccb-6ee7e1a40787",
   "metadata": {},
   "source": [
    "# Data Science Tools and Ecosystem"
   ]
  },
  {
   "cell_type": "markdown",
   "id": "bc4e088a-3621-4470-ab46-8e1cb26bc7fc",
   "metadata": {},
   "source": [
    "In this notebook, Data Science Tools and Ecosystem are summarized"
   ]
  },
  {
   "cell_type": "markdown",
   "id": "c08a1d8c-a4d0-4188-8cad-8502751407c5",
   "metadata": {},
   "source": [
    "Some of the commonly used languages used by Data Scientist include:\n",
    "\n",
    "1. R\n",
    "2. Python\n",
    "3. SQL\n",
    "4. C++"
   ]
  },
  {
   "cell_type": "markdown",
   "id": "f49e6ff9-f779-4710-aa5a-3c8853f92bc1",
   "metadata": {},
   "source": [
    "Some of the commonly used libraries used by Data Scientist include:\n",
    "\n",
    "1. Seaborn\n",
    "2. PyTorch\n",
    "3. TensorFlow\n",
    "4. SciPy"
   ]
  },
  {
   "cell_type": "markdown",
   "id": "5a5b2cef-140a-47b0-ad9d-3d73e9d0b39c",
   "metadata": {},
   "source": [
    "|Data Science Tools|\n",
    "|---|\n",
    "|RStudio|\n",
    "|KNIME|\n",
    "|RapidMiner|\n"
   ]
  },
  {
   "cell_type": "markdown",
   "id": "d8a7c28b-1196-4689-a735-3d6d40f810da",
   "metadata": {},
   "source": [
    "### Below are a few examples of evaluating arthmetic expressions in Python"
   ]
  },
  {
   "cell_type": "code",
   "execution_count": 29,
   "id": "4123ce36-4fff-4546-83b2-7d9cf3bd3f42",
   "metadata": {},
   "outputs": [
    {
     "data": {
      "text/plain": [
       "17"
      ]
     },
     "execution_count": 29,
     "metadata": {},
     "output_type": "execute_result"
    }
   ],
   "source": [
    "#This a simple arithmetic expression to mutiply then add integers\n",
    "(3*4)+5"
   ]
  },
  {
   "cell_type": "code",
   "execution_count": 41,
   "id": "8a77fcc9-e584-4a8b-a12b-f2bf019dac92",
   "metadata": {},
   "outputs": [
    {
     "data": {
      "text/plain": [
       "3.3333333333333335"
      ]
     },
     "execution_count": 41,
     "metadata": {},
     "output_type": "execute_result"
    }
   ],
   "source": [
    "#This will convert 200 minutes to hours by dividing by 60\n",
    "200/60"
   ]
  },
  {
   "cell_type": "markdown",
   "id": "bce0b1cb-0dc5-415f-bb7b-0b2e44067892",
   "metadata": {},
   "source": [
    "__Objectives:__\n",
    "* List popular languages used by Data Sciencists\n",
    "* List popular Libraries used by Data Scientists\n",
    "* Commonly used libraries used by Data Sciencists"
   ]
  },
  {
   "cell_type": "markdown",
   "id": "014a1f4d-57ab-4a85-adee-277a3a244a3d",
   "metadata": {},
   "source": [
    "## Author\n",
    "Eric Warren"
   ]
  },
  {
   "cell_type": "code",
   "execution_count": null,
   "id": "2b35a13a-1af2-4402-a241-95e33cc20d8b",
   "metadata": {},
   "outputs": [],
   "source": []
  }
 ],
 "metadata": {
  "kernelspec": {
   "display_name": "Python 3 (ipykernel)",
   "language": "python",
   "name": "python3"
  },
  "language_info": {
   "codemirror_mode": {
    "name": "ipython",
    "version": 3
   },
   "file_extension": ".py",
   "mimetype": "text/x-python",
   "name": "python",
   "nbconvert_exporter": "python",
   "pygments_lexer": "ipython3",
   "version": "3.12.4"
  }
 },
 "nbformat": 4,
 "nbformat_minor": 5
}
